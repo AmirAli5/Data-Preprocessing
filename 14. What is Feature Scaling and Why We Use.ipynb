{
 "cells": [
  {
   "cell_type": "markdown",
   "metadata": {},
   "source": [
    "## 1. What is Feature Scaling?\n",
    "* Feature Scaling is a method to scale numeric features in the same scale or range (like:-1 to 1,  0 to 1).\n",
    "* This is the last step involved in Data Preprocessing and before ML model training.\n",
    "* It is also called as data normalization.\n",
    "* We apply Feature Scaling on independent variables.\n",
    "* We fit feature scaling with train data and transform on train and test data."
   ]
  },
  {
   "cell_type": "markdown",
   "metadata": {},
   "source": [
    "## 2. Why Feature Scaling?\n",
    "* The scale of raw features is different according to its units.\n",
    "* Machine Learning algorithms can’t understand features units, understand only numbers.\n",
    "* Ex: If hight 140cm and 8.2feet.\n",
    "* ML Algorithms understand numbers then 140 > 8.2"
   ]
  },
  {
   "cell_type": "markdown",
   "metadata": {},
   "source": [
    "## 3. Which ML Algorithms Required Feature Scaling?\n",
    "\n",
    "**Those Algorithms Calculate Distance**\n",
    "* K-Nearest Neighbors (KNN)\n",
    "* K-Means\n",
    "* Support Vector Machine (SVM)\n",
    "* Principal Component Analysis(PCA)\n",
    "* Linear Discriminant Analysis\n",
    "\n",
    "**Gradient Descent Based Algorithms**\n",
    "* Linear Regression,\n",
    "* Logistic Regression\n",
    "* Neural Network\n",
    "\n",
    "**Tree Based Algorithms not required Feature scaling**\n",
    "* Decision Tree\n",
    "* Random Forest\n",
    "* XGBoost"
   ]
  },
  {
   "cell_type": "markdown",
   "metadata": {},
   "source": [
    "## 4. Types of Feature Scaling\n",
    "1. Min Max Scaler(Normalization)\n",
    "\n",
    "2. Standard Scaler\n",
    "\n",
    "3. Max Abs Scaler\n",
    "\n",
    "4. Robust Scaler\n",
    "\n",
    "5. Quantile Transformer Scaler\n",
    "\n",
    "6. Power Transformer Scaler\n",
    "\n",
    "7. Unit Vector Scaler"
   ]
  },
  {
   "cell_type": "markdown",
   "metadata": {},
   "source": [
    "## 5. Standardization vs Normalization Explain in Detail"
   ]
  },
  {
   "cell_type": "markdown",
   "metadata": {},
   "source": [
    "### What is Standardization?\n",
    "* Standardization rescale the feature such as mean(μ) = 0 and standard deviation (σ) = 1.\n",
    "* The result of standardization is Z called as Z-score normalization.\n",
    "* If data follow a normal distribution (gaussian distribution).\n",
    "* If the original distribution is normal, then the standardized distribution will be normal.\n",
    "* If the original distribution is skewed, then the standardized distribution of the variable will also be skewed."
   ]
  },
  {
   "cell_type": "markdown",
   "metadata": {},
   "source": [
    "### What is Normalization?"
   ]
  },
  {
   "cell_type": "markdown",
   "metadata": {},
   "source": [
    "* Normalization rescale the feature in fixed range between 0 to 1.\n",
    "* Normalization also called as Min-Max Scaling.\n",
    "* If data doesn’t follow normal distribution (Gaussian distribution)."
   ]
  },
  {
   "attachments": {},
   "cell_type": "markdown",
   "metadata": {},
   "source": [
    "### Standardization  vs Normalization\n",
    "* There is no any thumb rule to use Standardization or Normalization for special ML algo.\n",
    "* But mostly Standardization use for clustering analyses, Principal Component Analysis(PCA).\n",
    "* Normalization prefers for Image processing because of pixel intensity between 0 to 255, neural network algorithm requires data in scale 0-1, K-Nearest Neighbors.\n",
    "\n",
    "\n",
    "![](https://miro.medium.com/max/557/1*gJYncLr7mtFxnk3jWIIrqg.png)"
   ]
  }
 ],
 "metadata": {
  "kernelspec": {
   "display_name": "Python 3",
   "language": "python",
   "name": "python3"
  },
  "language_info": {
   "codemirror_mode": {
    "name": "ipython",
    "version": 3
   },
   "file_extension": ".py",
   "mimetype": "text/x-python",
   "name": "python",
   "nbconvert_exporter": "python",
   "pygments_lexer": "ipython3",
   "version": "3.6.1"
  }
 },
 "nbformat": 4,
 "nbformat_minor": 2
}
