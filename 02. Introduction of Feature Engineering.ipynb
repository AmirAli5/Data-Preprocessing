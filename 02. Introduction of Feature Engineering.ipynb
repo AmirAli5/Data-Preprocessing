{
 "cells": [
  {
   "cell_type": "markdown",
   "metadata": {},
   "source": [
    "## What is Feature Engineering?\n",
    "\n",
    "* Feature Engineering is the process to create feature/Attrtibute from existing features by domain know;edge to increase the performance of ML Model.\n",
    "* Feature Engineering is an art."
   ]
  },
  {
   "cell_type": "markdown",
   "metadata": {},
   "source": [
    "## Why is Feature Engineering is Important?\n",
    "* Quality data always help to improve the accuracy and performance of Machine Learning model.\n",
    "* Machine Learning algorithm follow the rule (learn like kids)\n",
    "    * GIGO - Garbage In Garbage Out"
   ]
  },
  {
   "cell_type": "markdown",
   "metadata": {},
   "source": [
    "### What are the Process of Feature Engineering?\n",
    "\n",
    "* Major Process of Feature Engineering:\n",
    "    * Brainstorming or testing features\n",
    "    * Deciding what features to create\n",
    "    * Creating features\n",
    "    * Checking how the features work with your model\n",
    "    * Improving your features if needed\n",
    "    * Creating more features untill the work is done"
   ]
  },
  {
   "cell_type": "markdown",
   "metadata": {},
   "source": [
    "### Examples of Feature Engineering?"
   ]
  },
  {
   "cell_type": "markdown",
   "metadata": {},
   "source": [
    "![](Images/6.png)"
   ]
  },
  {
   "cell_type": "markdown",
   "metadata": {},
   "source": [
    "![](Images/7.png)"
   ]
  },
  {
   "cell_type": "markdown",
   "metadata": {},
   "source": [
    "![](Images/8.png)"
   ]
  },
  {
   "cell_type": "markdown",
   "metadata": {},
   "source": [
    "## Prerequisites for Data Preprocessing\n",
    "\n",
    "* <b>Python Libraries </b>\n",
    "    * Numpy\n",
    "    * Pandas\n",
    "    * Matplotlib\n",
    "    * Seaborn\n",
    "    * Scikit Learn\n",
    "    \n",
    "    \n",
    "*  <b>Mathematics </b>\n",
    "    * Statistics\n",
    "    * Probability\n",
    "    * Calculus\n",
    "    * Linear Algebra"
   ]
  }
 ],
 "metadata": {
  "kernelspec": {
   "display_name": "Python 3",
   "language": "python",
   "name": "python3"
  },
  "language_info": {
   "codemirror_mode": {
    "name": "ipython",
    "version": 3
   },
   "file_extension": ".py",
   "mimetype": "text/x-python",
   "name": "python",
   "nbconvert_exporter": "python",
   "pygments_lexer": "ipython3",
   "version": "3.6.1"
  }
 },
 "nbformat": 4,
 "nbformat_minor": 2
}
