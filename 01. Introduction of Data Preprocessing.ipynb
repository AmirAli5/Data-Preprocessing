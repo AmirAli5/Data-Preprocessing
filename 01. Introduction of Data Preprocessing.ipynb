{
 "cells": [
  {
   "cell_type": "markdown",
   "metadata": {},
   "source": [
    "## What is Data Preprocessing?\n",
    "\n",
    "Data Preprocessing is a process to convert raw data into meaningful data using different techniques.\n",
    "\n",
    "<b>Data can be:</b>\n",
    "* Text\n",
    "* Images\n",
    "* Video\n",
    "* Audio"
   ]
  },
  {
   "cell_type": "markdown",
   "metadata": {},
   "source": [
    "## Why is Data Preprocessing is Important?\n",
    "\n",
    "* <b>Data in the real world is dirty</b>\n",
    "    * Incomplete\n",
    "    * Noisy\n",
    "    * Inconsistent\n",
    "    * Duplicate\n",
    "    \n",
    "    \n",
    "* <b>Data Quality Element</b>\n",
    "    * Accuracy\n",
    "    * Completeness\n",
    "    * Consistency\n",
    "    * Interpretability\n",
    "    \n",
    "    \n",
    "* <b>Machine Learning algorithm follow the rule (learn like kids)</b>\n",
    "     * GIGO - Garbage In Garbage Out"
   ]
  },
  {
   "cell_type": "markdown",
   "metadata": {},
   "source": [
    "## Techniques in Data Preprocessing\n",
    "* Data Cleaning\n",
    "* Data Integration\n",
    "* Data Reduction\n",
    "* Data Transformation\n",
    "* Data Discretization"
   ]
  },
  {
   "cell_type": "markdown",
   "metadata": {},
   "source": [
    "### What is Data Cleaning?"
   ]
  },
  {
   "cell_type": "markdown",
   "metadata": {},
   "source": [
    "Data Cleaning means fill in missing values, smooth out noise while identifying outliers, and correct inconsistance in the data.\n",
    "\n",
    "![](Images/1.png)"
   ]
  },
  {
   "cell_type": "markdown",
   "metadata": {},
   "source": [
    "### What is Data Integration\n",
    "Data Integration is a technique to merge data from multiple source into a coherent data store, such as a data warehouse.\n",
    "\n",
    "Note: Attribute should be correlate\n",
    "\n",
    "![](Images/2.png)"
   ]
  },
  {
   "cell_type": "markdown",
   "metadata": {},
   "source": [
    "### What is Data Reduction\n",
    "\n",
    "Data Reduction is atechnique use to reduce the data size by aggregating, elimination redundant features, or clustering, for instance\n",
    "\n",
    "![](Images/3.png)"
   ]
  },
  {
   "cell_type": "markdown",
   "metadata": {},
   "source": [
    "### What is Data Transformation\n",
    "\n",
    "means data are transformed or consolidated into forms appropriate for ML model training, such as normalization, may be applied where data are scaled to fall within a smaller range like 0.0 to 1.0.\n",
    "* Aggregation\n",
    "* Feature type conversation\n",
    "* Normalization\n",
    "* Attribute/feature constructuion\n",
    "\n",
    "![](Images/4.png)"
   ]
  },
  {
   "cell_type": "markdown",
   "metadata": {},
   "source": [
    "### What is Data Discretization?\n",
    "\n",
    "* Data Discretization technique transform numeric data by mapping values to interval or concept labels.\n",
    "* It can be used to reduce the number of values for a given continuous attribute by dividing the range of the attribute into intervals.\n",
    "* Data Discretization includes:\n",
    "    * Binning\n",
    "    * Histogram Analysis\n",
    "    * Cluster Analysis\n",
    "    * Corelation Analysis\n",
    "    * Decision tree Analysis\n",
    "    \n",
    "![](Images/5.png)"
   ]
  },
  {
   "cell_type": "markdown",
   "metadata": {},
   "source": [
    "## Prerequisites for Data Preprocessing\n",
    "\n",
    "* <b>Python Libraries </b>\n",
    "    * Numpy\n",
    "    * Pandas\n",
    "    * Matplotlib\n",
    "    * Seaborn\n",
    "    * Scikit Learn\n",
    "    \n",
    "    \n",
    "*  <b>Mathematics </b>\n",
    "    * Statistics\n",
    "    * Probability\n",
    "    * Calculus\n",
    "    * Linear Algebra"
   ]
  }
 ],
 "metadata": {
  "kernelspec": {
   "display_name": "Python 3",
   "language": "python",
   "name": "python3"
  },
  "language_info": {
   "codemirror_mode": {
    "name": "ipython",
    "version": 3
   },
   "file_extension": ".py",
   "mimetype": "text/x-python",
   "name": "python",
   "nbconvert_exporter": "python",
   "pygments_lexer": "ipython3",
   "version": "3.6.1"
  }
 },
 "nbformat": 4,
 "nbformat_minor": 2
}
