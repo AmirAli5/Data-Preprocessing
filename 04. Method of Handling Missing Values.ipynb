{
 "cells": [
  {
   "cell_type": "markdown",
   "metadata": {},
   "source": [
    "## What is Missing Value?\n",
    "In the Variable or any observation, values are not stored called as missing values/data\n",
    "\n",
    "\n",
    "\n",
    "![](Images/11.png)"
   ]
  },
  {
   "cell_type": "markdown",
   "metadata": {},
   "source": [
    "## What are the method to handle Missing Values?\n",
    "1. Ignore the missing values row/ Delete Row\n",
    "2. Fill missing value manually\n",
    "3. Global constant\n",
    "4. Measure of central tendency (Mean, Median, Mode)\n",
    "5. Measure of central tendency for each class\n",
    "6. Most probable value (ML algorithms)"
   ]
  },
  {
   "cell_type": "markdown",
   "metadata": {},
   "source": [
    "### 1. Ignore the missing values row/ Delete Row\n",
    "![](Images/12.png)"
   ]
  },
  {
   "cell_type": "markdown",
   "metadata": {},
   "source": [
    "### 2. Fill missing value manually\n",
    "![](Images/13.png)"
   ]
  },
  {
   "cell_type": "markdown",
   "metadata": {},
   "source": [
    "### 3. Global constant\n",
    "![](Images/14.png)"
   ]
  },
  {
   "cell_type": "markdown",
   "metadata": {},
   "source": [
    "### 4. Measure of central tendency (Mean, Median, Mode)\n",
    "![](Images/15.png)"
   ]
  },
  {
   "cell_type": "markdown",
   "metadata": {},
   "source": [
    "### 5. Measure of central tendency for each class (Mean, Median, Mode)\n",
    "![](Images/16.png)"
   ]
  },
  {
   "cell_type": "markdown",
   "metadata": {},
   "source": [
    "### 6. Most probable value (ML algorithms)\n",
    "* Linear Regression, Decision Tree\n",
    "![](Images/17.png)"
   ]
  }
 ],
 "metadata": {
  "kernelspec": {
   "display_name": "Python 3",
   "language": "python",
   "name": "python3"
  },
  "language_info": {
   "codemirror_mode": {
    "name": "ipython",
    "version": 3
   },
   "file_extension": ".py",
   "mimetype": "text/x-python",
   "name": "python",
   "nbconvert_exporter": "python",
   "pygments_lexer": "ipython3",
   "version": "3.6.1"
  }
 },
 "nbformat": 4,
 "nbformat_minor": 2
}
