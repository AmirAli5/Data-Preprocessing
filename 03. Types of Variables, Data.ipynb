{
 "cells": [
  {
   "cell_type": "markdown",
   "metadata": {},
   "source": [
    "## What is Variable?\n",
    "A Variables is any characteristics, number, or quantity that can me measure or counted."
   ]
  },
  {
   "cell_type": "markdown",
   "metadata": {},
   "source": [
    "![](Images/9.png)"
   ]
  },
  {
   "attachments": {},
   "cell_type": "markdown",
   "metadata": {},
   "source": [
    "## Types of Variables\n",
    "\n",
    "![](Images/10.png)\n",
    "\n",
    "1. **Numerical Value** : Numeric Values is a number has a numerical meaning <br>\n",
    "    a. **Discrete(Integer)**: The value which can be counted as whole value(fixed) like ages 45, 23, 76 etc<br>\n",
    "    b. **Continous(Float)**: (The value contains range, measurement like weight 45.6, 34.3 etc<br>\n",
    "    \n",
    "    \n",
    "\n",
    "2. **Categorical**: Categories values or labels values like yes or no etc<br>\n",
    "    a .**Ordinal**: Categories values in order like weekend saturday, sunday or grade A, B, C<br>\n",
    "    b. **Nominal**: Categories values in unorder like color red, green etc<br>\n",
    "    \n",
    "    \n",
    "    \n",
    "3. **Mixed**: Variables which contains Numerical and Categorical  both value<br>"
   ]
  }
 ],
 "metadata": {
  "kernelspec": {
   "display_name": "Python 3",
   "language": "python",
   "name": "python3"
  },
  "language_info": {
   "codemirror_mode": {
    "name": "ipython",
    "version": 3
   },
   "file_extension": ".py",
   "mimetype": "text/x-python",
   "name": "python",
   "nbconvert_exporter": "python",
   "pygments_lexer": "ipython3",
   "version": "3.6.1"
  }
 },
 "nbformat": 4,
 "nbformat_minor": 2
}
